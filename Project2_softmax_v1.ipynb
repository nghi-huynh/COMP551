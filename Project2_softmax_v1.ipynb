{
  "nbformat": 4,
  "nbformat_minor": 0,
  "metadata": {
    "colab": {
      "name": "softmax_v1.ipynb",
      "provenance": [],
      "collapsed_sections": []
    },
    "kernelspec": {
      "display_name": "Python 3",
      "language": "python",
      "name": "python3"
    },
    "language_info": {
      "codemirror_mode": {
        "name": "ipython",
        "version": 3
      },
      "file_extension": ".py",
      "mimetype": "text/x-python",
      "name": "python",
      "nbconvert_exporter": "python",
      "pygments_lexer": "ipython3",
      "version": "3.7.7"
    }
  },
  "cells": [
    {
      "cell_type": "code",
      "metadata": {
        "id": "b9M1v9Ydmq-G"
      },
      "source": [
        "import numpy as np\n",
        "import pandas as pd\n",
        "from sklearn import datasets\n",
        "import matplotlib.pyplot as plt\n",
        "from sklearn.datasets import fetch_openml\n",
        "from scipy import stats\n",
        "from timeit import default_timer as timer\n",
        "%matplotlib inline\n",
        "np.random.seed(1234)"
      ],
      "execution_count": null,
      "outputs": []
    },
    {
      "cell_type": "code",
      "metadata": {
        "id": "L2KryeCcmq-O",
        "colab": {
          "base_uri": "https://localhost:8080/"
        },
        "outputId": "c7c07b5b-441a-4e8e-b9b0-34099957d260"
      },
      "source": [
        "## Load the datasets\n",
        "## Notice that there are no missing values in either datasets as well as no categorical features\n",
        "## Hence only processing necessary are normalization of the features and one-hot encoding of the targets\n",
        "digits = datasets.load_digits()\n",
        "x_digits,y_digits = digits.data,digits.target\n",
        "x_digits = stats.zscore(x_digits,axis=1)\n",
        "#one-hot encoding of the class labels\n",
        "y_digits_enc = (np.arange(np.max(y_digits) + 1) == y_digits[:, None]).astype(float)\n",
        "\n",
        "(digits_instances, digits_features), digits_classes = x_digits.shape, np.max(y_digits)+1\n",
        "print('Digits dataset',(digits_instances, digits_features), digits_classes)\n",
        "\n",
        "letter = fetch_openml('letter',version=1)\n",
        "x_letter, y_letter_char = np.array(letter.data), np.array(letter.target)\n",
        "x_letter = stats.zscore(x_letter,axis=1)\n",
        "#one-hot encoding of the classes                        \n",
        "l = np.unique(letter.target)\n",
        "y_letter_enc = np.zeros((x_letter.shape[0],len(l)))\n",
        "for idx in range(len(l)):\n",
        "    curr = l[idx]\n",
        "    y_letter_enc[np.where(letter.target[:] == curr),idx] = 1\n",
        "x_letter = np.array(x_letter)\n",
        "(letter_instances, letter_features), letter_classes = x_letter.shape, y_letter_enc.shape[1]\n",
        "\n",
        "print('letter dataset',(letter_instances, letter_features), letter_classes)\n"
      ],
      "execution_count": null,
      "outputs": [
        {
          "output_type": "stream",
          "text": [
            "Digits dataset (1797, 64) 10\n",
            "letter dataset (20000, 16) 26\n"
          ],
          "name": "stdout"
        }
      ]
    },
    {
      "cell_type": "markdown",
      "metadata": {
        "id": "fiqQclfBmq-S"
      },
      "source": [
        "## Set aside the test data"
      ]
    },
    {
      "cell_type": "code",
      "metadata": {
        "id": "OemOQtPQmq-U"
      },
      "source": [
        "\n",
        "#Split into train, validation and test (3:1:1)\n",
        "n_digits_test= digits_instances // 5\n",
        "# Keep the last 20% out of the digits dataset for testing \n",
        "x_digits_test, y_digits_test = x_digits[-n_digits_test:],y_digits_enc[-n_digits_test:] \n",
        "x_digits_train,y_digits_train = x_digits[:-n_digits_test],y_digits_enc[:-n_digits_test]\n",
        "\n",
        "n_letter_test = letter_instances // 5\n",
        "# Keep last 20% out of the letter dataset for testing \n",
        "x_letter_test, y_letter_test = x_letter[-n_letter_test:],y_letter_enc[-n_letter_test:]\n",
        "x_letter_train,y_letter_train = x_letter[:-n_letter_test],y_letter_enc[:-n_letter_test]\n"
      ],
      "execution_count": null,
      "outputs": []
    },
    {
      "cell_type": "markdown",
      "metadata": {
        "id": "jiF9YJCsmq-Z"
      },
      "source": [
        "## Cross-validation"
      ]
    },
    {
      "cell_type": "code",
      "metadata": {
        "id": "GO0pUnmdmq-a"
      },
      "source": [
        "def cross_validate(n, n_folds=5):\n",
        "    #get the number of data samples in each split\n",
        "    n_val = n // n_folds\n",
        "    inds = np.random.permutation(n)\n",
        "    inds = []\n",
        "    for f in range(n_folds):\n",
        "        tr_inds = []\n",
        "        #get the validation indexes\n",
        "        val_inds = list(range(f * n_val, (f+1)*n_val))\n",
        "        #get the train indexes\n",
        "        if f > 0:\n",
        "            tr_inds = list(range(f*n_val))\n",
        "        if f < n_folds - 1:\n",
        "            tr_inds = tr_inds + list(range((f+1)*n_val, n))\n",
        "        #The yield statement suspends function’s execution and sends a value back to the caller\n",
        "        #but retains enough state information to enable function to resume where it is left off\n",
        "        yield tr_inds, val_inds"
      ],
      "execution_count": null,
      "outputs": []
    },
    {
      "cell_type": "markdown",
      "metadata": {
        "id": "1h5hIW_lmq-d"
      },
      "source": [
        "## Gradient Optimizer"
      ]
    },
    {
      "cell_type": "markdown",
      "metadata": {
        "id": "4YReFs_tmq-d"
      },
      "source": [
        "Gradient with momentum : use a running average delta_w to update the weights w"
      ]
    },
    {
      "cell_type": "code",
      "metadata": {
        "id": "gnzR7lMnmq-e"
      },
      "source": [
        "class GradientDescent:\n",
        "    \n",
        "    def __init__(self, learning_rate=.001, max_iters=1e4, epsilon=1e-8,beta=0.99, record_history=False):\n",
        "        self.learning_rate = learning_rate\n",
        "        self.max_iters = max_iters\n",
        "        self.record_history = record_history\n",
        "        self.epsilon = epsilon\n",
        "        self.beta = beta\n",
        "        if record_history:\n",
        "            self.w_history = []\n",
        "            \n",
        "    def run(self, gradient_fn,cost_fn, x, y,delta_w, w, b,lambdaa):\n",
        "        grad = np.inf\n",
        "        t = 1\n",
        "        cost=np.ones(self.max_iters)*np.inf\n",
        "        T=50\n",
        "        while np.linalg.norm(grad) > self.epsilon and t < self.max_iters:\n",
        "            grad = gradient_fn(x, y, w, b,lambdaa)\n",
        "            delta_w = self.beta*delta_w +(1-self.beta)*grad # momentum\n",
        "            w = w - self.learning_rate * delta_w #update the weigths with the running average\n",
        "            cost[t]=cost_fn(x,y,w,lambdaa)\n",
        "            if(cost[t] < cost[t-1]):\n",
        "                T=50\n",
        "                delta_w_best = delta_w\n",
        "                w_best = w\n",
        "            else:\n",
        "                T -= 1\n",
        "            if T ==0:\n",
        "                break\n",
        "            if self.record_history:\n",
        "                self.w_history.append(w)\n",
        "            t += 1\n",
        "        return delta_w_best, w_best, cost"
      ],
      "execution_count": null,
      "outputs": []
    },
    {
      "cell_type": "markdown",
      "metadata": {
        "id": "3066SHzBmq-h"
      },
      "source": [
        "## Softmax Regression Model"
      ]
    },
    {
      "cell_type": "markdown",
      "metadata": {
        "id": "nnjk-e-imq-h"
      },
      "source": [
        "### Cost function for softmax regression with L2 loss"
      ]
    },
    {
      "cell_type": "markdown",
      "metadata": {
        "id": "3GAXsMP6mq-i"
      },
      "source": [
        "Use the average of the softmax cross entropy with L2 loss as cost function "
      ]
    },
    {
      "cell_type": "code",
      "metadata": {
        "id": "lFsLL0HImq-j"
      },
      "source": [
        "# FIX COST FUNCTION\n",
        "def cost_fn(x, y, w,lambdaa):\n",
        "    z = np.dot(x, w) # N\n",
        "    yh=softmax(z)\n",
        "    J = np.mean(-np.sum(np.log(yh) * (y), axis=1))+(lambdaa/2)*np.sum(w*w)\n",
        "    return J  \n",
        "def cost_fin(y,yh,w,lambdaa):\n",
        "    J = np.mean(-np.sum(np.log(yh) * (y), axis=1))+(lambdaa/2)*np.sum(w*w)\n",
        "    return J"
      ],
      "execution_count": null,
      "outputs": []
    },
    {
      "cell_type": "markdown",
      "metadata": {
        "id": "r0-2-K8kmq-n"
      },
      "source": [
        "### Softmax function and mini batch gradient with L2 loss"
      ]
    },
    {
      "cell_type": "code",
      "metadata": {
        "id": "hp41SqJrmq-o"
      },
      "source": [
        "def softmax(z):\n",
        "    return (np.exp(z.T) / np.sum(np.exp(z), axis=1)).T\n",
        "\n",
        "def mini_batch_gradient(x, y, w, batch_size, lambdaa):\n",
        "    N, D = x.shape\n",
        "    D1, num_classes = w.shape\n",
        "    inds_x = np.random.permutation(N)\n",
        "    inds_w = np.random.permutation(D1)\n",
        "    yh = softmax(np.dot(x[inds_x[:batch_size],:],w))\n",
        "    grad = np.dot(x[inds_x[:batch_size],:].T,yh - y[inds_x[:batch_size],:])/N \n",
        "    grad[1:] += lambdaa * w[1:]\n",
        "    return grad"
      ],
      "execution_count": null,
      "outputs": []
    },
    {
      "cell_type": "markdown",
      "metadata": {
        "id": "QClDZzfOmq-r"
      },
      "source": [
        "## Softmax Regression Class"
      ]
    },
    {
      "cell_type": "code",
      "metadata": {
        "id": "PbKBc-1Wmq-s"
      },
      "source": [
        "class SoftmaxRegression:\n",
        "    \n",
        "    def __init__(self, add_bias=True, learning_rate=.1, epsilon=1e-4, verbose=False):\n",
        "        self.add_bias = add_bias\n",
        "        self.learning_rate = learning_rate\n",
        "        self.epsilon = epsilon\n",
        "        #self.max_iters = max_iters\n",
        "        self.verbose = verbose\n",
        "        \n",
        "    def fit(self, x, y,optimizer, b,num_classes,lambdaa):\n",
        "        if x.ndim == 1:\n",
        "            x = x[:, None]\n",
        "        if self.add_bias:\n",
        "            N = x.shape[0]\n",
        "            x = np.column_stack([x,np.ones(N)])\n",
        "        N,D = x.shape\n",
        "        w0 = np.zeros((D,num_classes))\n",
        "        delta_w0 = np.zeros((D,num_classes))\n",
        "        delta_w, self.w, cost = optimizer.run(mini_batch_gradient,cost_fn, x, y,delta_w0, w0, b,lambdaa)\n",
        "        \n",
        "        \n",
        "        if self.verbose:\n",
        "            print(f'the weight found: {self.w}')\n",
        "        return self, cost\n",
        "    \n",
        "    def predict(self, x):\n",
        "        if x.ndim == 1:\n",
        "            x = x[:, None]\n",
        "        Nt = x.shape[0]\n",
        "        if self.add_bias:\n",
        "            x = np.column_stack([x,np.ones(Nt)])\n",
        "        yh = softmax(np.dot(x,self.w))\n",
        "        \n",
        "        return yh\n",
        "\n",
        "SoftmaxRegression.gradient = mini_batch_gradient"
      ],
      "execution_count": null,
      "outputs": []
    },
    {
      "cell_type": "code",
      "metadata": {
        "id": "17kgmZcuCuxh"
      },
      "source": [
        "def one_hot_y (y):\n",
        "  yh = np.zeros((np.shape(y)))\n",
        "  idx = np.argmax(y,axis = 1)\n",
        "  for k,i in enumerate(idx):\n",
        "    yh[k][i]=1\n",
        "  return yh\n"
      ],
      "execution_count": null,
      "outputs": []
    },
    {
      "cell_type": "markdown",
      "metadata": {
        "id": "DLT_Y1QHmq-8"
      },
      "source": [
        "# Hyper-parameter tuning\n",
        "### Grid search\n",
        "Note that the hyper-parameter tuning takes a long time to run and that the optimal parameters have already been set for the softmax regression on the digits and letter datasets. It is therefore not necessary to run this section every time."
      ]
    },
    {
      "cell_type": "code",
      "metadata": {
        "id": "0FDKuKcUmq-9",
        "colab": {
          "base_uri": "https://localhost:8080/",
          "height": 1000
        },
        "outputId": "96b64969-c074-4d59-9bdc-dc651939610b"
      },
      "source": [
        "# Set a range of values for each parameters alpha, beta, lambda and B\n",
        "best_alpha, best_beta, best_lambda, best_B = 0,0,0,0\n",
        "min_error=np.inf\n",
        "alpha_range=[0.2,0.1,0.01,0.001,0.0001]\n",
        "beta_range=[0.9,0.99,0.999]\n",
        "lambda_range=[0.1,0.01,0.001]\n",
        "B_range=[3,4,5] #values by which we will divide the train set\n",
        "for alpha in alpha_range:\n",
        "    for beta in beta_range:\n",
        "        for lambdaa in lambda_range:\n",
        "            for B in B_range:\n",
        "                optimizer = GradientDescent(learning_rate=alpha, max_iters=1000,beta=beta,record_history=False)\n",
        "                num_folds = 5\n",
        "                n_rest = digits_instances - n_digits_test\n",
        "                err_valid = np.zeros(5)\n",
        "                cost_iter=np.zeros((1000,num_folds))\n",
        "                acc_d= []\n",
        "                start = timer()\n",
        "                for f, (tr, val) in enumerate(cross_validate(n_rest, num_folds)):\n",
        "                    model = SoftmaxRegression()\n",
        "                    model, cost_iter[:,f] = model.fit(x_digits_train[tr], y_digits_train[tr],optimizer,b=len(x_digits_train[tr])//B,num_classes=digits_classes,lambdaa=lambdaa)\n",
        "                    yh =  model.predict(x_digits_train[val])\n",
        "                    acc_d.append(np.mean((y_digits_train[val].argmax(axis=1)==one_hot_y(yh).argmax(axis=1))))\n",
        "                    err_valid[f] = cost_fin(y_digits_train[val], yh,model.w,lambdaa=lambdaa)\n",
        "            \n",
        "                    end = timer()\n",
        "                err_mean=np.mean(acc_d)\n",
        "                \n",
        "                print('For parameters alpha=',alpha,' beta=',beta,' lambda =',lambdaa,' B=',B,', the mean accuracy is ',err_mean,' and time in (s) in', end-start)\n",
        "                if(err_mean < min_error):\n",
        "                    min_error=err_mean\n",
        "                    best_alpha, best_beta, best_lambda, best_B = alpha,beta,lambdaa,B\n",
        "    "
      ],
      "execution_count": null,
      "outputs": [
        {
          "output_type": "stream",
          "text": [
            "For parameters alpha= 0.2  beta= 0.9  lambda = 0.1  B= 3 , the mean accuracy is  0.8961672473867596  and time in (s) in 11.483407709999483\n",
            "For parameters alpha= 0.2  beta= 0.9  lambda = 0.1  B= 4 , the mean accuracy is  0.8940766550522647  and time in (s) in 10.634286917000281\n",
            "For parameters alpha= 0.2  beta= 0.9  lambda = 0.1  B= 5 , the mean accuracy is  0.8905923344947736  and time in (s) in 10.264579288000277\n",
            "For parameters alpha= 0.2  beta= 0.9  lambda = 0.01  B= 3 , the mean accuracy is  0.9282229965156794  and time in (s) in 11.549430149999353\n",
            "For parameters alpha= 0.2  beta= 0.9  lambda = 0.01  B= 4 , the mean accuracy is  0.9254355400696864  and time in (s) in 10.711475416000212\n",
            "For parameters alpha= 0.2  beta= 0.9  lambda = 0.01  B= 5 , the mean accuracy is  0.9226480836236934  and time in (s) in 10.36220850799964\n",
            "For parameters alpha= 0.2  beta= 0.9  lambda = 0.001  B= 3 , the mean accuracy is  0.937979094076655  and time in (s) in 11.37391562599987\n",
            "For parameters alpha= 0.2  beta= 0.9  lambda = 0.001  B= 4 , the mean accuracy is  0.9358885017421603  and time in (s) in 10.708314551000512\n",
            "For parameters alpha= 0.2  beta= 0.9  lambda = 0.001  B= 5 , the mean accuracy is  0.9331010452961672  and time in (s) in 10.293421630000012\n",
            "For parameters alpha= 0.2  beta= 0.99  lambda = 0.1  B= 3 , the mean accuracy is  0.8989547038327526  and time in (s) in 2.5606000489997314\n",
            "For parameters alpha= 0.2  beta= 0.99  lambda = 0.1  B= 4 , the mean accuracy is  0.8961672473867596  and time in (s) in 2.3075506510003834\n",
            "For parameters alpha= 0.2  beta= 0.99  lambda = 0.1  B= 5 , the mean accuracy is  0.8891986062717769  and time in (s) in 2.319598602000042\n",
            "For parameters alpha= 0.2  beta= 0.99  lambda = 0.01  B= 3 , the mean accuracy is  0.9254355400696863  and time in (s) in 5.396941924000203\n",
            "For parameters alpha= 0.2  beta= 0.99  lambda = 0.01  B= 4 , the mean accuracy is  0.9198606271777002  and time in (s) in 4.88389116899998\n",
            "For parameters alpha= 0.2  beta= 0.99  lambda = 0.01  B= 5 , the mean accuracy is  0.9177700348432056  and time in (s) in 4.701016637999601\n",
            "For parameters alpha= 0.2  beta= 0.99  lambda = 0.001  B= 3 , the mean accuracy is  0.9344947735191639  and time in (s) in 11.362507112999992\n",
            "For parameters alpha= 0.2  beta= 0.99  lambda = 0.001  B= 4 , the mean accuracy is  0.9324041811846691  and time in (s) in 10.67961219999961\n",
            "For parameters alpha= 0.2  beta= 0.99  lambda = 0.001  B= 5 , the mean accuracy is  0.9331010452961672  and time in (s) in 10.24999175800076\n",
            "For parameters alpha= 0.2  beta= 0.999  lambda = 0.1  B= 3 , the mean accuracy is  0.8891986062717769  and time in (s) in 4.44913154599999\n",
            "For parameters alpha= 0.2  beta= 0.999  lambda = 0.1  B= 4 , the mean accuracy is  0.8982578397212544  and time in (s) in 7.0126926370003275\n",
            "For parameters alpha= 0.2  beta= 0.999  lambda = 0.1  B= 5 , the mean accuracy is  0.8961672473867596  and time in (s) in 6.308916527999827\n",
            "For parameters alpha= 0.2  beta= 0.999  lambda = 0.01  B= 3 , the mean accuracy is  0.8961672473867596  and time in (s) in 6.2976060970004255\n",
            "For parameters alpha= 0.2  beta= 0.999  lambda = 0.01  B= 4 , the mean accuracy is  0.8982578397212544  and time in (s) in 7.092257302000689\n",
            "For parameters alpha= 0.2  beta= 0.999  lambda = 0.01  B= 5 , the mean accuracy is  0.8968641114982578  and time in (s) in 8.279450953999913\n",
            "For parameters alpha= 0.2  beta= 0.999  lambda = 0.001  B= 3 , the mean accuracy is  0.9094076655052264  and time in (s) in 11.318077857999924\n",
            "For parameters alpha= 0.2  beta= 0.999  lambda = 0.001  B= 4 , the mean accuracy is  0.905226480836237  and time in (s) in 10.623355007999635\n",
            "For parameters alpha= 0.2  beta= 0.999  lambda = 0.001  B= 5 , the mean accuracy is  0.9073170731707316  and time in (s) in 10.15392246600004\n",
            "For parameters alpha= 0.1  beta= 0.9  lambda = 0.1  B= 3 , the mean accuracy is  0.902439024390244  and time in (s) in 11.276886865000051\n",
            "For parameters alpha= 0.1  beta= 0.9  lambda = 0.1  B= 4 , the mean accuracy is  0.8933797909407666  and time in (s) in 9.50752714400005\n",
            "For parameters alpha= 0.1  beta= 0.9  lambda = 0.1  B= 5 , the mean accuracy is  0.8891986062717769  and time in (s) in 9.462800725000307\n",
            "For parameters alpha= 0.1  beta= 0.9  lambda = 0.01  B= 3 , the mean accuracy is  0.9261324041811847  and time in (s) in 11.333767922000334\n",
            "For parameters alpha= 0.1  beta= 0.9  lambda = 0.01  B= 4 , the mean accuracy is  0.9212543554006969  and time in (s) in 10.678690157000347\n",
            "For parameters alpha= 0.1  beta= 0.9  lambda = 0.01  B= 5 , the mean accuracy is  0.9184668989547038  and time in (s) in 10.275358030999996\n",
            "For parameters alpha= 0.1  beta= 0.9  lambda = 0.001  B= 3 , the mean accuracy is  0.9324041811846688  and time in (s) in 11.381438301999879\n",
            "For parameters alpha= 0.1  beta= 0.9  lambda = 0.001  B= 4 , the mean accuracy is  0.9296167247386761  and time in (s) in 10.746184523999545\n",
            "For parameters alpha= 0.1  beta= 0.9  lambda = 0.001  B= 5 , the mean accuracy is  0.92404181184669  and time in (s) in 10.339687014000447\n",
            "For parameters alpha= 0.1  beta= 0.99  lambda = 0.1  B= 3 , the mean accuracy is  0.8954703832752614  and time in (s) in 3.25745883899981\n",
            "For parameters alpha= 0.1  beta= 0.99  lambda = 0.1  B= 4 , the mean accuracy is  0.89198606271777  and time in (s) in 3.122433992999504\n",
            "For parameters alpha= 0.1  beta= 0.99  lambda = 0.1  B= 5 , the mean accuracy is  0.8933797909407666  and time in (s) in 3.1136721220000254\n",
            "For parameters alpha= 0.1  beta= 0.99  lambda = 0.01  B= 3 , the mean accuracy is  0.9191637630662021  and time in (s) in 7.359422321000238\n",
            "For parameters alpha= 0.1  beta= 0.99  lambda = 0.01  B= 4 , the mean accuracy is  0.9156794425087108  and time in (s) in 7.22257135000018\n",
            "For parameters alpha= 0.1  beta= 0.99  lambda = 0.01  B= 5 , the mean accuracy is  0.9184668989547038  and time in (s) in 7.498533183000291\n",
            "For parameters alpha= 0.1  beta= 0.99  lambda = 0.001  B= 3 , the mean accuracy is  0.9317073170731709  and time in (s) in 11.344499097000153\n",
            "For parameters alpha= 0.1  beta= 0.99  lambda = 0.001  B= 4 , the mean accuracy is  0.9275261324041812  and time in (s) in 10.628222964000088\n",
            "For parameters alpha= 0.1  beta= 0.99  lambda = 0.001  B= 5 , the mean accuracy is  0.9226480836236932  and time in (s) in 10.249645116000465\n",
            "For parameters alpha= 0.1  beta= 0.999  lambda = 0.1  B= 3 , the mean accuracy is  0.8885017421602788  and time in (s) in 6.333809620000466\n",
            "For parameters alpha= 0.1  beta= 0.999  lambda = 0.1  B= 4 , the mean accuracy is  0.8968641114982578  and time in (s) in 9.084243610000158\n",
            "For parameters alpha= 0.1  beta= 0.999  lambda = 0.1  B= 5 , the mean accuracy is  0.8947735191637631  and time in (s) in 8.34124575900023\n",
            "For parameters alpha= 0.1  beta= 0.999  lambda = 0.01  B= 3 , the mean accuracy is  0.8961672473867596  and time in (s) in 9.361088933000246\n",
            "For parameters alpha= 0.1  beta= 0.999  lambda = 0.01  B= 4 , the mean accuracy is  0.8982578397212544  and time in (s) in 10.663326928999595\n",
            "For parameters alpha= 0.1  beta= 0.999  lambda = 0.01  B= 5 , the mean accuracy is  0.8982578397212544  and time in (s) in 10.208071576000293\n",
            "For parameters alpha= 0.1  beta= 0.999  lambda = 0.001  B= 3 , the mean accuracy is  0.9017421602787457  and time in (s) in 11.236548155000492\n",
            "For parameters alpha= 0.1  beta= 0.999  lambda = 0.001  B= 4 , the mean accuracy is  0.8989547038327528  and time in (s) in 10.65171781800018\n",
            "For parameters alpha= 0.1  beta= 0.999  lambda = 0.001  B= 5 , the mean accuracy is  0.8954703832752614  and time in (s) in 10.245855225999549\n",
            "For parameters alpha= 0.01  beta= 0.9  lambda = 0.1  B= 3 , the mean accuracy is  0.8898954703832753  and time in (s) in 11.695054539000012\n",
            "For parameters alpha= 0.01  beta= 0.9  lambda = 0.1  B= 4 , the mean accuracy is  0.8857142857142858  and time in (s) in 10.615701280999929\n",
            "For parameters alpha= 0.01  beta= 0.9  lambda = 0.1  B= 5 , the mean accuracy is  0.8829268292682926  and time in (s) in 10.156523738999567\n",
            "For parameters alpha= 0.01  beta= 0.9  lambda = 0.01  B= 3 , the mean accuracy is  0.8989547038327526  and time in (s) in 11.30264593100037\n",
            "For parameters alpha= 0.01  beta= 0.9  lambda = 0.01  B= 4 , the mean accuracy is  0.8898954703832753  and time in (s) in 10.557633991999865\n",
            "For parameters alpha= 0.01  beta= 0.9  lambda = 0.01  B= 5 , the mean accuracy is  0.8871080139372822  and time in (s) in 10.146567075000348\n",
            "For parameters alpha= 0.01  beta= 0.9  lambda = 0.001  B= 3 , the mean accuracy is  0.8975609756097562  and time in (s) in 11.343607507999877\n",
            "For parameters alpha= 0.01  beta= 0.9  lambda = 0.001  B= 4 , the mean accuracy is  0.8878048780487806  and time in (s) in 10.5680479749999\n",
            "For parameters alpha= 0.01  beta= 0.9  lambda = 0.001  B= 5 , the mean accuracy is  0.8878048780487806  and time in (s) in 10.188984381999944\n",
            "For parameters alpha= 0.01  beta= 0.99  lambda = 0.1  B= 3 , the mean accuracy is  0.8898954703832753  and time in (s) in 11.252936474000307\n",
            "For parameters alpha= 0.01  beta= 0.99  lambda = 0.1  B= 4 , the mean accuracy is  0.8850174216027874  and time in (s) in 10.525486391999948\n",
            "For parameters alpha= 0.01  beta= 0.99  lambda = 0.1  B= 5 , the mean accuracy is  0.8815331010452961  and time in (s) in 10.185009099000126\n",
            "For parameters alpha= 0.01  beta= 0.99  lambda = 0.01  B= 3 , the mean accuracy is  0.8947735191637631  and time in (s) in 11.281049537999934\n",
            "For parameters alpha= 0.01  beta= 0.99  lambda = 0.01  B= 4 , the mean accuracy is  0.8878048780487806  and time in (s) in 10.57068645199979\n",
            "For parameters alpha= 0.01  beta= 0.99  lambda = 0.01  B= 5 , the mean accuracy is  0.8829268292682926  and time in (s) in 10.11052744800054\n",
            "For parameters alpha= 0.01  beta= 0.99  lambda = 0.001  B= 3 , the mean accuracy is  0.8954703832752614  and time in (s) in 11.273590486000103\n",
            "For parameters alpha= 0.01  beta= 0.99  lambda = 0.001  B= 4 , the mean accuracy is  0.8864111498257838  and time in (s) in 10.611002576999454\n"
          ],
          "name": "stdout"
        },
        {
          "output_type": "error",
          "ename": "KeyboardInterrupt",
          "evalue": "ignored",
          "traceback": [
            "\u001b[0;31m---------------------------------------------------------------------------\u001b[0m",
            "\u001b[0;31mKeyboardInterrupt\u001b[0m                         Traceback (most recent call last)",
            "\u001b[0;32m<ipython-input-29-64de0f4e7e68>\u001b[0m in \u001b[0;36m<module>\u001b[0;34m()\u001b[0m\n\u001b[1;32m     19\u001b[0m                 \u001b[0;32mfor\u001b[0m \u001b[0mf\u001b[0m\u001b[0;34m,\u001b[0m \u001b[0;34m(\u001b[0m\u001b[0mtr\u001b[0m\u001b[0;34m,\u001b[0m \u001b[0mval\u001b[0m\u001b[0;34m)\u001b[0m \u001b[0;32min\u001b[0m \u001b[0menumerate\u001b[0m\u001b[0;34m(\u001b[0m\u001b[0mcross_validate\u001b[0m\u001b[0;34m(\u001b[0m\u001b[0mn_rest\u001b[0m\u001b[0;34m,\u001b[0m \u001b[0mnum_folds\u001b[0m\u001b[0;34m)\u001b[0m\u001b[0;34m)\u001b[0m\u001b[0;34m:\u001b[0m\u001b[0;34m\u001b[0m\u001b[0;34m\u001b[0m\u001b[0m\n\u001b[1;32m     20\u001b[0m                     \u001b[0mmodel\u001b[0m \u001b[0;34m=\u001b[0m \u001b[0mSoftmaxRegression\u001b[0m\u001b[0;34m(\u001b[0m\u001b[0;34m)\u001b[0m\u001b[0;34m\u001b[0m\u001b[0;34m\u001b[0m\u001b[0m\n\u001b[0;32m---> 21\u001b[0;31m                     \u001b[0mmodel\u001b[0m\u001b[0;34m,\u001b[0m \u001b[0mcost_iter\u001b[0m\u001b[0;34m[\u001b[0m\u001b[0;34m:\u001b[0m\u001b[0;34m,\u001b[0m\u001b[0mf\u001b[0m\u001b[0;34m]\u001b[0m \u001b[0;34m=\u001b[0m \u001b[0mmodel\u001b[0m\u001b[0;34m.\u001b[0m\u001b[0mfit\u001b[0m\u001b[0;34m(\u001b[0m\u001b[0mx_digits_train\u001b[0m\u001b[0;34m[\u001b[0m\u001b[0mtr\u001b[0m\u001b[0;34m]\u001b[0m\u001b[0;34m,\u001b[0m \u001b[0my_digits_train\u001b[0m\u001b[0;34m[\u001b[0m\u001b[0mtr\u001b[0m\u001b[0;34m]\u001b[0m\u001b[0;34m,\u001b[0m\u001b[0moptimizer\u001b[0m\u001b[0;34m,\u001b[0m\u001b[0mb\u001b[0m\u001b[0;34m=\u001b[0m\u001b[0mlen\u001b[0m\u001b[0;34m(\u001b[0m\u001b[0mx_digits_train\u001b[0m\u001b[0;34m[\u001b[0m\u001b[0mtr\u001b[0m\u001b[0;34m]\u001b[0m\u001b[0;34m)\u001b[0m\u001b[0;34m//\u001b[0m\u001b[0mB\u001b[0m\u001b[0;34m,\u001b[0m\u001b[0mnum_classes\u001b[0m\u001b[0;34m=\u001b[0m\u001b[0mdigits_classes\u001b[0m\u001b[0;34m,\u001b[0m\u001b[0mlambdaa\u001b[0m\u001b[0;34m=\u001b[0m\u001b[0mlambdaa\u001b[0m\u001b[0;34m)\u001b[0m\u001b[0;34m\u001b[0m\u001b[0;34m\u001b[0m\u001b[0m\n\u001b[0m\u001b[1;32m     22\u001b[0m                     \u001b[0myh\u001b[0m \u001b[0;34m=\u001b[0m  \u001b[0mmodel\u001b[0m\u001b[0;34m.\u001b[0m\u001b[0mpredict\u001b[0m\u001b[0;34m(\u001b[0m\u001b[0mx_digits_train\u001b[0m\u001b[0;34m[\u001b[0m\u001b[0mval\u001b[0m\u001b[0;34m]\u001b[0m\u001b[0;34m)\u001b[0m\u001b[0;34m\u001b[0m\u001b[0;34m\u001b[0m\u001b[0m\n\u001b[1;32m     23\u001b[0m                     \u001b[0macc_d\u001b[0m\u001b[0;34m.\u001b[0m\u001b[0mappend\u001b[0m\u001b[0;34m(\u001b[0m\u001b[0mnp\u001b[0m\u001b[0;34m.\u001b[0m\u001b[0mmean\u001b[0m\u001b[0;34m(\u001b[0m\u001b[0;34m(\u001b[0m\u001b[0my_digits_train\u001b[0m\u001b[0;34m[\u001b[0m\u001b[0mval\u001b[0m\u001b[0;34m]\u001b[0m\u001b[0;34m.\u001b[0m\u001b[0margmax\u001b[0m\u001b[0;34m(\u001b[0m\u001b[0maxis\u001b[0m\u001b[0;34m=\u001b[0m\u001b[0;36m1\u001b[0m\u001b[0;34m)\u001b[0m\u001b[0;34m==\u001b[0m\u001b[0mone_hot_y\u001b[0m\u001b[0;34m(\u001b[0m\u001b[0myh\u001b[0m\u001b[0;34m)\u001b[0m\u001b[0;34m.\u001b[0m\u001b[0margmax\u001b[0m\u001b[0;34m(\u001b[0m\u001b[0maxis\u001b[0m\u001b[0;34m=\u001b[0m\u001b[0;36m1\u001b[0m\u001b[0;34m)\u001b[0m\u001b[0;34m)\u001b[0m\u001b[0;34m)\u001b[0m\u001b[0;34m)\u001b[0m\u001b[0;34m\u001b[0m\u001b[0;34m\u001b[0m\u001b[0m\n",
            "\u001b[0;32m<ipython-input-9-f3f59ac5ff6f>\u001b[0m in \u001b[0;36mfit\u001b[0;34m(self, x, y, optimizer, b, num_classes, lambdaa)\u001b[0m\n\u001b[1;32m     17\u001b[0m         \u001b[0mw0\u001b[0m \u001b[0;34m=\u001b[0m \u001b[0mnp\u001b[0m\u001b[0;34m.\u001b[0m\u001b[0mzeros\u001b[0m\u001b[0;34m(\u001b[0m\u001b[0;34m(\u001b[0m\u001b[0mD\u001b[0m\u001b[0;34m,\u001b[0m\u001b[0mnum_classes\u001b[0m\u001b[0;34m)\u001b[0m\u001b[0;34m)\u001b[0m\u001b[0;34m\u001b[0m\u001b[0;34m\u001b[0m\u001b[0m\n\u001b[1;32m     18\u001b[0m         \u001b[0mdelta_w0\u001b[0m \u001b[0;34m=\u001b[0m \u001b[0mnp\u001b[0m\u001b[0;34m.\u001b[0m\u001b[0mzeros\u001b[0m\u001b[0;34m(\u001b[0m\u001b[0;34m(\u001b[0m\u001b[0mD\u001b[0m\u001b[0;34m,\u001b[0m\u001b[0mnum_classes\u001b[0m\u001b[0;34m)\u001b[0m\u001b[0;34m)\u001b[0m\u001b[0;34m\u001b[0m\u001b[0;34m\u001b[0m\u001b[0m\n\u001b[0;32m---> 19\u001b[0;31m         \u001b[0mdelta_w\u001b[0m\u001b[0;34m,\u001b[0m \u001b[0mself\u001b[0m\u001b[0;34m.\u001b[0m\u001b[0mw\u001b[0m\u001b[0;34m,\u001b[0m \u001b[0mcost\u001b[0m \u001b[0;34m=\u001b[0m \u001b[0moptimizer\u001b[0m\u001b[0;34m.\u001b[0m\u001b[0mrun\u001b[0m\u001b[0;34m(\u001b[0m\u001b[0mmini_batch_gradient\u001b[0m\u001b[0;34m,\u001b[0m\u001b[0mcost_fn\u001b[0m\u001b[0;34m,\u001b[0m \u001b[0mx\u001b[0m\u001b[0;34m,\u001b[0m \u001b[0my\u001b[0m\u001b[0;34m,\u001b[0m\u001b[0mdelta_w0\u001b[0m\u001b[0;34m,\u001b[0m \u001b[0mw0\u001b[0m\u001b[0;34m,\u001b[0m \u001b[0mb\u001b[0m\u001b[0;34m,\u001b[0m\u001b[0mlambdaa\u001b[0m\u001b[0;34m)\u001b[0m\u001b[0;34m\u001b[0m\u001b[0;34m\u001b[0m\u001b[0m\n\u001b[0m\u001b[1;32m     20\u001b[0m \u001b[0;34m\u001b[0m\u001b[0m\n\u001b[1;32m     21\u001b[0m \u001b[0;34m\u001b[0m\u001b[0m\n",
            "\u001b[0;32m<ipython-input-6-144e46bd2a0f>\u001b[0m in \u001b[0;36mrun\u001b[0;34m(self, gradient_fn, cost_fn, x, y, delta_w, w, b, lambdaa)\u001b[0m\n\u001b[1;32m     20\u001b[0m             \u001b[0mdelta_w\u001b[0m \u001b[0;34m=\u001b[0m \u001b[0mself\u001b[0m\u001b[0;34m.\u001b[0m\u001b[0mbeta\u001b[0m\u001b[0;34m*\u001b[0m\u001b[0mdelta_w\u001b[0m \u001b[0;34m+\u001b[0m\u001b[0;34m(\u001b[0m\u001b[0;36m1\u001b[0m\u001b[0;34m-\u001b[0m\u001b[0mself\u001b[0m\u001b[0;34m.\u001b[0m\u001b[0mbeta\u001b[0m\u001b[0;34m)\u001b[0m\u001b[0;34m*\u001b[0m\u001b[0mgrad\u001b[0m \u001b[0;31m#momentum\u001b[0m\u001b[0;34m\u001b[0m\u001b[0;34m\u001b[0m\u001b[0m\n\u001b[1;32m     21\u001b[0m             \u001b[0mw\u001b[0m \u001b[0;34m=\u001b[0m \u001b[0mw\u001b[0m \u001b[0;34m-\u001b[0m \u001b[0mself\u001b[0m\u001b[0;34m.\u001b[0m\u001b[0mlearning_rate\u001b[0m \u001b[0;34m*\u001b[0m \u001b[0mdelta_w\u001b[0m\u001b[0;34m\u001b[0m\u001b[0;34m\u001b[0m\u001b[0m\n\u001b[0;32m---> 22\u001b[0;31m             \u001b[0mcost\u001b[0m\u001b[0;34m[\u001b[0m\u001b[0mt\u001b[0m\u001b[0;34m]\u001b[0m\u001b[0;34m=\u001b[0m\u001b[0mcost_fn\u001b[0m\u001b[0;34m(\u001b[0m\u001b[0mx\u001b[0m\u001b[0;34m,\u001b[0m\u001b[0my\u001b[0m\u001b[0;34m,\u001b[0m\u001b[0mw\u001b[0m\u001b[0;34m,\u001b[0m\u001b[0mlambdaa\u001b[0m\u001b[0;34m)\u001b[0m\u001b[0;34m\u001b[0m\u001b[0;34m\u001b[0m\u001b[0m\n\u001b[0m\u001b[1;32m     23\u001b[0m             \u001b[0;32mif\u001b[0m\u001b[0;34m(\u001b[0m\u001b[0mcost\u001b[0m\u001b[0;34m[\u001b[0m\u001b[0mt\u001b[0m\u001b[0;34m]\u001b[0m \u001b[0;34m<\u001b[0m \u001b[0mcost\u001b[0m\u001b[0;34m[\u001b[0m\u001b[0mt\u001b[0m\u001b[0;34m-\u001b[0m\u001b[0;36m1\u001b[0m\u001b[0;34m]\u001b[0m\u001b[0;34m)\u001b[0m\u001b[0;34m:\u001b[0m\u001b[0;34m\u001b[0m\u001b[0;34m\u001b[0m\u001b[0m\n\u001b[1;32m     24\u001b[0m                 \u001b[0mT\u001b[0m\u001b[0;34m=\u001b[0m\u001b[0;36m50\u001b[0m\u001b[0;34m\u001b[0m\u001b[0;34m\u001b[0m\u001b[0m\n",
            "\u001b[0;32m<ipython-input-7-dfff413f933c>\u001b[0m in \u001b[0;36mcost_fn\u001b[0;34m(x, y, w, lambdaa)\u001b[0m\n\u001b[1;32m      2\u001b[0m \u001b[0;32mdef\u001b[0m \u001b[0mcost_fn\u001b[0m\u001b[0;34m(\u001b[0m\u001b[0mx\u001b[0m\u001b[0;34m,\u001b[0m \u001b[0my\u001b[0m\u001b[0;34m,\u001b[0m \u001b[0mw\u001b[0m\u001b[0;34m,\u001b[0m\u001b[0mlambdaa\u001b[0m\u001b[0;34m)\u001b[0m\u001b[0;34m:\u001b[0m\u001b[0;34m\u001b[0m\u001b[0;34m\u001b[0m\u001b[0m\n\u001b[1;32m      3\u001b[0m     \u001b[0mN\u001b[0m\u001b[0;34m,\u001b[0m \u001b[0mD\u001b[0m \u001b[0;34m=\u001b[0m \u001b[0mx\u001b[0m\u001b[0;34m.\u001b[0m\u001b[0mshape\u001b[0m \u001b[0;31m# not really used!\u001b[0m\u001b[0;34m\u001b[0m\u001b[0;34m\u001b[0m\u001b[0m\n\u001b[0;32m----> 4\u001b[0;31m     \u001b[0mz\u001b[0m \u001b[0;34m=\u001b[0m \u001b[0mnp\u001b[0m\u001b[0;34m.\u001b[0m\u001b[0mdot\u001b[0m\u001b[0;34m(\u001b[0m\u001b[0mx\u001b[0m\u001b[0;34m,\u001b[0m \u001b[0mw\u001b[0m\u001b[0;34m)\u001b[0m \u001b[0;31m# N\u001b[0m\u001b[0;34m\u001b[0m\u001b[0;34m\u001b[0m\u001b[0m\n\u001b[0m\u001b[1;32m      5\u001b[0m     \u001b[0myh\u001b[0m\u001b[0;34m=\u001b[0m\u001b[0msoftmax\u001b[0m\u001b[0;34m(\u001b[0m\u001b[0mz\u001b[0m\u001b[0;34m)\u001b[0m\u001b[0;34m\u001b[0m\u001b[0;34m\u001b[0m\u001b[0m\n\u001b[1;32m      6\u001b[0m     \u001b[0mJ\u001b[0m \u001b[0;34m=\u001b[0m \u001b[0mnp\u001b[0m\u001b[0;34m.\u001b[0m\u001b[0mmean\u001b[0m\u001b[0;34m(\u001b[0m\u001b[0;34m-\u001b[0m\u001b[0mnp\u001b[0m\u001b[0;34m.\u001b[0m\u001b[0msum\u001b[0m\u001b[0;34m(\u001b[0m\u001b[0mnp\u001b[0m\u001b[0;34m.\u001b[0m\u001b[0mlog\u001b[0m\u001b[0;34m(\u001b[0m\u001b[0myh\u001b[0m\u001b[0;34m)\u001b[0m \u001b[0;34m*\u001b[0m \u001b[0;34m(\u001b[0m\u001b[0my\u001b[0m\u001b[0;34m)\u001b[0m\u001b[0;34m,\u001b[0m \u001b[0maxis\u001b[0m\u001b[0;34m=\u001b[0m\u001b[0;36m1\u001b[0m\u001b[0;34m)\u001b[0m\u001b[0;34m)\u001b[0m\u001b[0;34m+\u001b[0m\u001b[0;34m(\u001b[0m\u001b[0mlambdaa\u001b[0m\u001b[0;34m/\u001b[0m\u001b[0;36m2\u001b[0m\u001b[0;34m)\u001b[0m\u001b[0;34m*\u001b[0m\u001b[0mnp\u001b[0m\u001b[0;34m.\u001b[0m\u001b[0msum\u001b[0m\u001b[0;34m(\u001b[0m\u001b[0mw\u001b[0m\u001b[0;34m*\u001b[0m\u001b[0mw\u001b[0m\u001b[0;34m)\u001b[0m\u001b[0;34m\u001b[0m\u001b[0;34m\u001b[0m\u001b[0m\n",
            "\u001b[0;32m<__array_function__ internals>\u001b[0m in \u001b[0;36mdot\u001b[0;34m(*args, **kwargs)\u001b[0m\n",
            "\u001b[0;31mKeyboardInterrupt\u001b[0m: "
          ]
        }
      ]
    },
    {
      "cell_type": "code",
      "metadata": {
        "id": "G0MyAsfwmq_A",
        "colab": {
          "base_uri": "https://localhost:8080/"
        },
        "outputId": "f17c9878-81ad-41ff-cde3-1ce56704c498"
      },
      "source": [
        "print('For the digits model alpha, beta, lambda and B:',best_alpha, best_beta, best_lambda, best_B)\n"
      ],
      "execution_count": null,
      "outputs": [
        {
          "output_type": "stream",
          "text": [
            "For the digits model alpha, beta, lambda and B: 0.2 0.99 0.001 3\n"
          ],
          "name": "stdout"
        },
        {
          "output_type": "execute_result",
          "data": {
            "text/plain": [
              "[]"
            ]
          },
          "metadata": {
            "tags": []
          },
          "execution_count": 22
        }
      ]
    },
    {
      "cell_type": "code",
      "metadata": {
        "id": "45ZkSFLpmq_D",
        "colab": {
          "base_uri": "https://localhost:8080/",
          "height": 405
        },
        "outputId": "5a248665-c576-44ba-f460-5a30ac5356ac"
      },
      "source": [
        "# Set a range of values for each parameters alpha, beta, lambda and B\n",
        "best_alpha_letter, best_beta_letter, best_lambda_letter, best_B_letter = 0,0,0,0\n",
        "min_error=np.inf\n",
        "alpha_range=[2,1.5,1,0.5,0.1,0.01,0.001,0.0001]\n",
        "beta_range=[0.9,0.95,0.99,0.999]\n",
        "lambda_range=[0.1,0.01,0.001]\n",
        "B_range=[2,3,4,5] #values by which we will divide the train set\n",
        "for alpha in alpha_range:\n",
        "    for beta in beta_range:\n",
        "        for lambdaa in lambda_range:\n",
        "            for B in B_range:\n",
        "                optimizer = GradientDescent(learning_rate=alpha, max_iters=2000,beta=beta,record_history=False)\n",
        "                num_folds = 5\n",
        "                n_rest = letter_instances - n_letter_test\n",
        "                err_valid = np.zeros(5)\n",
        "                cost_iter=np.zeros((2000,num_folds))\n",
        "                acc_l= []\n",
        "                start = timer()\n",
        "                for f, (tr, val) in enumerate(cross_validate(n_rest, num_folds)):\n",
        "                    model = SoftmaxRegression()\n",
        "                    model, cost_iter[:,f] = model.fit(x_letter_train[tr], y_letter_train[tr],optimizer,b=len(x_letter_train[tr])//B,num_classes=letter_classes,lambdaa=lambdaa)\n",
        "                    yh =  model.predict(x_letter_train[val])\n",
        "                    acc_l.append(np.mean((y_letter_train[val].argmax(axis=1)==one_hot_y(yh).argmax(axis=1))))\n",
        "                    err_valid[f] = cost_fin(y_letter_train[val], model.predict(x_letter_train[val]),model.w,lambdaa=lambdaa)\n",
        "            \n",
        "                    end = timer()\n",
        "                err_mean=np.mean(acc_l)\n",
        "                print('For parameters alpha=',alpha,' beta=',beta,' lambda =',lambdaa,' B=',B,', the mean accuracy is ',err_mean,' and time in (s) in', end-start)\n",
        "                if(err_mean < min_error):\n",
        "                    min_error=err_mean\n",
        "                    best_alpha_letter, best_beta_letter, best_lambda_letter, best_B_letter = alpha,beta,lambdaa,B\n",
        "print('For the letters model alpha, beta, lambda and B:',best_alpha_letter, best_beta_letter, best_lambda_letter, best_B_letter)    "
      ],
      "execution_count": null,
      "outputs": [
        {
          "output_type": "stream",
          "text": [
            "For parameters alpha= 0.1  beta= 0.9  lambda = 0.1  B= 2 , the mean accuracy is  0.5101875  and time in (s) in 116.21912701900055\n"
          ],
          "name": "stdout"
        },
        {
          "output_type": "error",
          "ename": "KeyboardInterrupt",
          "evalue": "ignored",
          "traceback": [
            "\u001b[0;31m---------------------------------------------------------------------------\u001b[0m",
            "\u001b[0;31mKeyboardInterrupt\u001b[0m                         Traceback (most recent call last)",
            "\u001b[0;32m<ipython-input-13-996d753ddff0>\u001b[0m in \u001b[0;36m<module>\u001b[0;34m()\u001b[0m\n\u001b[1;32m     19\u001b[0m                 \u001b[0;32mfor\u001b[0m \u001b[0mf\u001b[0m\u001b[0;34m,\u001b[0m \u001b[0;34m(\u001b[0m\u001b[0mtr\u001b[0m\u001b[0;34m,\u001b[0m \u001b[0mval\u001b[0m\u001b[0;34m)\u001b[0m \u001b[0;32min\u001b[0m \u001b[0menumerate\u001b[0m\u001b[0;34m(\u001b[0m\u001b[0mcross_validate\u001b[0m\u001b[0;34m(\u001b[0m\u001b[0mn_rest\u001b[0m\u001b[0;34m,\u001b[0m \u001b[0mnum_folds\u001b[0m\u001b[0;34m)\u001b[0m\u001b[0;34m)\u001b[0m\u001b[0;34m:\u001b[0m\u001b[0;34m\u001b[0m\u001b[0;34m\u001b[0m\u001b[0m\n\u001b[1;32m     20\u001b[0m                     \u001b[0mmodel\u001b[0m \u001b[0;34m=\u001b[0m \u001b[0mSoftmaxRegression\u001b[0m\u001b[0;34m(\u001b[0m\u001b[0;34m)\u001b[0m\u001b[0;34m\u001b[0m\u001b[0;34m\u001b[0m\u001b[0m\n\u001b[0;32m---> 21\u001b[0;31m                     \u001b[0mmodel\u001b[0m\u001b[0;34m,\u001b[0m \u001b[0mcost_iter\u001b[0m\u001b[0;34m[\u001b[0m\u001b[0;34m:\u001b[0m\u001b[0;34m,\u001b[0m\u001b[0mf\u001b[0m\u001b[0;34m]\u001b[0m \u001b[0;34m=\u001b[0m \u001b[0mmodel\u001b[0m\u001b[0;34m.\u001b[0m\u001b[0mfit\u001b[0m\u001b[0;34m(\u001b[0m\u001b[0mx_letter_train\u001b[0m\u001b[0;34m[\u001b[0m\u001b[0mtr\u001b[0m\u001b[0;34m]\u001b[0m\u001b[0;34m,\u001b[0m \u001b[0my_letter_train\u001b[0m\u001b[0;34m[\u001b[0m\u001b[0mtr\u001b[0m\u001b[0;34m]\u001b[0m\u001b[0;34m,\u001b[0m\u001b[0moptimizer\u001b[0m\u001b[0;34m,\u001b[0m\u001b[0mb\u001b[0m\u001b[0;34m=\u001b[0m\u001b[0mlen\u001b[0m\u001b[0;34m(\u001b[0m\u001b[0mx_letter_train\u001b[0m\u001b[0;34m[\u001b[0m\u001b[0mtr\u001b[0m\u001b[0;34m]\u001b[0m\u001b[0;34m)\u001b[0m\u001b[0;34m//\u001b[0m\u001b[0mB\u001b[0m\u001b[0;34m,\u001b[0m\u001b[0mnum_classes\u001b[0m\u001b[0;34m=\u001b[0m\u001b[0mletter_classes\u001b[0m\u001b[0;34m,\u001b[0m\u001b[0mlambdaa\u001b[0m\u001b[0;34m=\u001b[0m\u001b[0mlambdaa\u001b[0m\u001b[0;34m)\u001b[0m\u001b[0;34m\u001b[0m\u001b[0;34m\u001b[0m\u001b[0m\n\u001b[0m\u001b[1;32m     22\u001b[0m                     \u001b[0myh\u001b[0m \u001b[0;34m=\u001b[0m  \u001b[0mmodel\u001b[0m\u001b[0;34m.\u001b[0m\u001b[0mpredict\u001b[0m\u001b[0;34m(\u001b[0m\u001b[0mx_letter_train\u001b[0m\u001b[0;34m[\u001b[0m\u001b[0mval\u001b[0m\u001b[0;34m]\u001b[0m\u001b[0;34m)\u001b[0m\u001b[0;34m\u001b[0m\u001b[0;34m\u001b[0m\u001b[0m\n\u001b[1;32m     23\u001b[0m                     \u001b[0macc_l\u001b[0m\u001b[0;34m.\u001b[0m\u001b[0mappend\u001b[0m\u001b[0;34m(\u001b[0m\u001b[0mnp\u001b[0m\u001b[0;34m.\u001b[0m\u001b[0mmean\u001b[0m\u001b[0;34m(\u001b[0m\u001b[0;34m(\u001b[0m\u001b[0my_letter_train\u001b[0m\u001b[0;34m[\u001b[0m\u001b[0mval\u001b[0m\u001b[0;34m]\u001b[0m\u001b[0;34m.\u001b[0m\u001b[0margmax\u001b[0m\u001b[0;34m(\u001b[0m\u001b[0maxis\u001b[0m\u001b[0;34m=\u001b[0m\u001b[0;36m1\u001b[0m\u001b[0;34m)\u001b[0m\u001b[0;34m==\u001b[0m\u001b[0mone_hot_y\u001b[0m\u001b[0;34m(\u001b[0m\u001b[0myh\u001b[0m\u001b[0;34m)\u001b[0m\u001b[0;34m.\u001b[0m\u001b[0margmax\u001b[0m\u001b[0;34m(\u001b[0m\u001b[0maxis\u001b[0m\u001b[0;34m=\u001b[0m\u001b[0;36m1\u001b[0m\u001b[0;34m)\u001b[0m\u001b[0;34m)\u001b[0m\u001b[0;34m)\u001b[0m\u001b[0;34m)\u001b[0m\u001b[0;34m\u001b[0m\u001b[0;34m\u001b[0m\u001b[0m\n",
            "\u001b[0;32m<ipython-input-9-f3f59ac5ff6f>\u001b[0m in \u001b[0;36mfit\u001b[0;34m(self, x, y, optimizer, b, num_classes, lambdaa)\u001b[0m\n\u001b[1;32m     17\u001b[0m         \u001b[0mw0\u001b[0m \u001b[0;34m=\u001b[0m \u001b[0mnp\u001b[0m\u001b[0;34m.\u001b[0m\u001b[0mzeros\u001b[0m\u001b[0;34m(\u001b[0m\u001b[0;34m(\u001b[0m\u001b[0mD\u001b[0m\u001b[0;34m,\u001b[0m\u001b[0mnum_classes\u001b[0m\u001b[0;34m)\u001b[0m\u001b[0;34m)\u001b[0m\u001b[0;34m\u001b[0m\u001b[0;34m\u001b[0m\u001b[0m\n\u001b[1;32m     18\u001b[0m         \u001b[0mdelta_w0\u001b[0m \u001b[0;34m=\u001b[0m \u001b[0mnp\u001b[0m\u001b[0;34m.\u001b[0m\u001b[0mzeros\u001b[0m\u001b[0;34m(\u001b[0m\u001b[0;34m(\u001b[0m\u001b[0mD\u001b[0m\u001b[0;34m,\u001b[0m\u001b[0mnum_classes\u001b[0m\u001b[0;34m)\u001b[0m\u001b[0;34m)\u001b[0m\u001b[0;34m\u001b[0m\u001b[0;34m\u001b[0m\u001b[0m\n\u001b[0;32m---> 19\u001b[0;31m         \u001b[0mdelta_w\u001b[0m\u001b[0;34m,\u001b[0m \u001b[0mself\u001b[0m\u001b[0;34m.\u001b[0m\u001b[0mw\u001b[0m\u001b[0;34m,\u001b[0m \u001b[0mcost\u001b[0m \u001b[0;34m=\u001b[0m \u001b[0moptimizer\u001b[0m\u001b[0;34m.\u001b[0m\u001b[0mrun\u001b[0m\u001b[0;34m(\u001b[0m\u001b[0mmini_batch_gradient\u001b[0m\u001b[0;34m,\u001b[0m\u001b[0mcost_fn\u001b[0m\u001b[0;34m,\u001b[0m \u001b[0mx\u001b[0m\u001b[0;34m,\u001b[0m \u001b[0my\u001b[0m\u001b[0;34m,\u001b[0m\u001b[0mdelta_w0\u001b[0m\u001b[0;34m,\u001b[0m \u001b[0mw0\u001b[0m\u001b[0;34m,\u001b[0m \u001b[0mb\u001b[0m\u001b[0;34m,\u001b[0m\u001b[0mlambdaa\u001b[0m\u001b[0;34m)\u001b[0m\u001b[0;34m\u001b[0m\u001b[0;34m\u001b[0m\u001b[0m\n\u001b[0m\u001b[1;32m     20\u001b[0m \u001b[0;34m\u001b[0m\u001b[0m\n\u001b[1;32m     21\u001b[0m \u001b[0;34m\u001b[0m\u001b[0m\n",
            "\u001b[0;32m<ipython-input-6-144e46bd2a0f>\u001b[0m in \u001b[0;36mrun\u001b[0;34m(self, gradient_fn, cost_fn, x, y, delta_w, w, b, lambdaa)\u001b[0m\n\u001b[1;32m     16\u001b[0m         \u001b[0mT\u001b[0m\u001b[0;34m=\u001b[0m\u001b[0;36m50\u001b[0m\u001b[0;34m\u001b[0m\u001b[0;34m\u001b[0m\u001b[0m\n\u001b[1;32m     17\u001b[0m         \u001b[0;32mwhile\u001b[0m \u001b[0mnp\u001b[0m\u001b[0;34m.\u001b[0m\u001b[0mlinalg\u001b[0m\u001b[0;34m.\u001b[0m\u001b[0mnorm\u001b[0m\u001b[0;34m(\u001b[0m\u001b[0mgrad\u001b[0m\u001b[0;34m)\u001b[0m \u001b[0;34m>\u001b[0m \u001b[0mself\u001b[0m\u001b[0;34m.\u001b[0m\u001b[0mepsilon\u001b[0m \u001b[0;32mand\u001b[0m \u001b[0mt\u001b[0m \u001b[0;34m<\u001b[0m \u001b[0mself\u001b[0m\u001b[0;34m.\u001b[0m\u001b[0mmax_iters\u001b[0m\u001b[0;34m:\u001b[0m\u001b[0;34m\u001b[0m\u001b[0;34m\u001b[0m\u001b[0m\n\u001b[0;32m---> 18\u001b[0;31m             \u001b[0mgrad\u001b[0m \u001b[0;34m=\u001b[0m \u001b[0mgradient_fn\u001b[0m\u001b[0;34m(\u001b[0m\u001b[0mx\u001b[0m\u001b[0;34m,\u001b[0m \u001b[0my\u001b[0m\u001b[0;34m,\u001b[0m \u001b[0mw\u001b[0m\u001b[0;34m,\u001b[0m \u001b[0mb\u001b[0m\u001b[0;34m,\u001b[0m\u001b[0mlambdaa\u001b[0m\u001b[0;34m)\u001b[0m\u001b[0;34m\u001b[0m\u001b[0;34m\u001b[0m\u001b[0m\n\u001b[0m\u001b[1;32m     19\u001b[0m             \u001b[0;31m#print('gradient norm',np.linalg.norm(grad))\u001b[0m\u001b[0;34m\u001b[0m\u001b[0;34m\u001b[0m\u001b[0;34m\u001b[0m\u001b[0m\n\u001b[1;32m     20\u001b[0m             \u001b[0mdelta_w\u001b[0m \u001b[0;34m=\u001b[0m \u001b[0mself\u001b[0m\u001b[0;34m.\u001b[0m\u001b[0mbeta\u001b[0m\u001b[0;34m*\u001b[0m\u001b[0mdelta_w\u001b[0m \u001b[0;34m+\u001b[0m\u001b[0;34m(\u001b[0m\u001b[0;36m1\u001b[0m\u001b[0;34m-\u001b[0m\u001b[0mself\u001b[0m\u001b[0;34m.\u001b[0m\u001b[0mbeta\u001b[0m\u001b[0;34m)\u001b[0m\u001b[0;34m*\u001b[0m\u001b[0mgrad\u001b[0m \u001b[0;31m#momentum\u001b[0m\u001b[0;34m\u001b[0m\u001b[0;34m\u001b[0m\u001b[0m\n",
            "\u001b[0;32m<ipython-input-8-e3740634d9b8>\u001b[0m in \u001b[0;36mmini_batch_gradient\u001b[0;34m(x, y, w, batch_size, lambdaa)\u001b[0m\n\u001b[1;32m      9\u001b[0m     \u001b[0minds_x\u001b[0m \u001b[0;34m=\u001b[0m \u001b[0mnp\u001b[0m\u001b[0;34m.\u001b[0m\u001b[0mrandom\u001b[0m\u001b[0;34m.\u001b[0m\u001b[0mpermutation\u001b[0m\u001b[0;34m(\u001b[0m\u001b[0mN\u001b[0m\u001b[0;34m)\u001b[0m\u001b[0;34m\u001b[0m\u001b[0;34m\u001b[0m\u001b[0m\n\u001b[1;32m     10\u001b[0m     \u001b[0minds_w\u001b[0m \u001b[0;34m=\u001b[0m \u001b[0mnp\u001b[0m\u001b[0;34m.\u001b[0m\u001b[0mrandom\u001b[0m\u001b[0;34m.\u001b[0m\u001b[0mpermutation\u001b[0m\u001b[0;34m(\u001b[0m\u001b[0mD1\u001b[0m\u001b[0;34m)\u001b[0m\u001b[0;34m\u001b[0m\u001b[0;34m\u001b[0m\u001b[0m\n\u001b[0;32m---> 11\u001b[0;31m     \u001b[0myh\u001b[0m \u001b[0;34m=\u001b[0m \u001b[0msoftmax\u001b[0m\u001b[0;34m(\u001b[0m\u001b[0mnp\u001b[0m\u001b[0;34m.\u001b[0m\u001b[0mdot\u001b[0m\u001b[0;34m(\u001b[0m\u001b[0mx\u001b[0m\u001b[0;34m[\u001b[0m\u001b[0minds_x\u001b[0m\u001b[0;34m[\u001b[0m\u001b[0;34m:\u001b[0m\u001b[0mbatch_size\u001b[0m\u001b[0;34m]\u001b[0m\u001b[0;34m,\u001b[0m\u001b[0;34m:\u001b[0m\u001b[0;34m]\u001b[0m\u001b[0;34m,\u001b[0m\u001b[0mw\u001b[0m\u001b[0;34m)\u001b[0m\u001b[0;34m)\u001b[0m\u001b[0;34m\u001b[0m\u001b[0;34m\u001b[0m\u001b[0m\n\u001b[0m\u001b[1;32m     12\u001b[0m     \u001b[0;31m#print('mini_batch, yh shape: ',yh.shape,' y shape: ',y[inds_x[:batch_size],:].shape)\u001b[0m\u001b[0;34m\u001b[0m\u001b[0;34m\u001b[0m\u001b[0;34m\u001b[0m\u001b[0m\n\u001b[1;32m     13\u001b[0m     \u001b[0mgrad\u001b[0m \u001b[0;34m=\u001b[0m \u001b[0mnp\u001b[0m\u001b[0;34m.\u001b[0m\u001b[0mdot\u001b[0m\u001b[0;34m(\u001b[0m\u001b[0mx\u001b[0m\u001b[0;34m[\u001b[0m\u001b[0minds_x\u001b[0m\u001b[0;34m[\u001b[0m\u001b[0;34m:\u001b[0m\u001b[0mbatch_size\u001b[0m\u001b[0;34m]\u001b[0m\u001b[0;34m,\u001b[0m\u001b[0;34m:\u001b[0m\u001b[0;34m]\u001b[0m\u001b[0;34m.\u001b[0m\u001b[0mT\u001b[0m\u001b[0;34m,\u001b[0m\u001b[0myh\u001b[0m \u001b[0;34m-\u001b[0m \u001b[0my\u001b[0m\u001b[0;34m[\u001b[0m\u001b[0minds_x\u001b[0m\u001b[0;34m[\u001b[0m\u001b[0;34m:\u001b[0m\u001b[0mbatch_size\u001b[0m\u001b[0;34m]\u001b[0m\u001b[0;34m,\u001b[0m\u001b[0;34m:\u001b[0m\u001b[0;34m]\u001b[0m\u001b[0;34m)\u001b[0m\u001b[0;34m/\u001b[0m\u001b[0mN\u001b[0m\u001b[0;34m\u001b[0m\u001b[0;34m\u001b[0m\u001b[0m\n",
            "\u001b[0;32m<ipython-input-8-e3740634d9b8>\u001b[0m in \u001b[0;36msoftmax\u001b[0;34m(z)\u001b[0m\n\u001b[1;32m      1\u001b[0m \u001b[0;32mdef\u001b[0m \u001b[0msoftmax\u001b[0m\u001b[0;34m(\u001b[0m\u001b[0mz\u001b[0m\u001b[0;34m)\u001b[0m\u001b[0;34m:\u001b[0m\u001b[0;34m\u001b[0m\u001b[0;34m\u001b[0m\u001b[0m\n\u001b[1;32m      2\u001b[0m     \u001b[0;31m#print('softmax:',(np.exp(z.T) / np.sum(np.exp(z), axis=1)).T)\u001b[0m\u001b[0;34m\u001b[0m\u001b[0;34m\u001b[0m\u001b[0;34m\u001b[0m\u001b[0m\n\u001b[0;32m----> 3\u001b[0;31m     \u001b[0;32mreturn\u001b[0m \u001b[0;34m(\u001b[0m\u001b[0mnp\u001b[0m\u001b[0;34m.\u001b[0m\u001b[0mexp\u001b[0m\u001b[0;34m(\u001b[0m\u001b[0mz\u001b[0m\u001b[0;34m.\u001b[0m\u001b[0mT\u001b[0m\u001b[0;34m)\u001b[0m \u001b[0;34m/\u001b[0m \u001b[0mnp\u001b[0m\u001b[0;34m.\u001b[0m\u001b[0msum\u001b[0m\u001b[0;34m(\u001b[0m\u001b[0mnp\u001b[0m\u001b[0;34m.\u001b[0m\u001b[0mexp\u001b[0m\u001b[0;34m(\u001b[0m\u001b[0mz\u001b[0m\u001b[0;34m)\u001b[0m\u001b[0;34m,\u001b[0m \u001b[0maxis\u001b[0m\u001b[0;34m=\u001b[0m\u001b[0;36m1\u001b[0m\u001b[0;34m)\u001b[0m\u001b[0;34m)\u001b[0m\u001b[0;34m.\u001b[0m\u001b[0mT\u001b[0m\u001b[0;34m\u001b[0m\u001b[0;34m\u001b[0m\u001b[0m\n\u001b[0m\u001b[1;32m      4\u001b[0m \u001b[0;34m\u001b[0m\u001b[0m\n\u001b[1;32m      5\u001b[0m \u001b[0;32mdef\u001b[0m \u001b[0mmini_batch_gradient\u001b[0m\u001b[0;34m(\u001b[0m\u001b[0mx\u001b[0m\u001b[0;34m,\u001b[0m \u001b[0my\u001b[0m\u001b[0;34m,\u001b[0m \u001b[0mw\u001b[0m\u001b[0;34m,\u001b[0m \u001b[0mbatch_size\u001b[0m\u001b[0;34m,\u001b[0m \u001b[0mlambdaa\u001b[0m\u001b[0;34m)\u001b[0m\u001b[0;34m:\u001b[0m\u001b[0;34m\u001b[0m\u001b[0;34m\u001b[0m\u001b[0m\n",
            "\u001b[0;31mKeyboardInterrupt\u001b[0m: "
          ]
        }
      ]
    },
    {
      "cell_type": "code",
      "metadata": {
        "id": "XjJwhV18mq_F"
      },
      "source": [
        "print('For the letters model alpha, beta, lambda and B:',best_alpha_letter, best_beta_letter, best_lambda_letter, best_B_letter)"
      ],
      "execution_count": null,
      "outputs": []
    },
    {
      "cell_type": "markdown",
      "metadata": {
        "id": "rPSjExGo7tq1"
      },
      "source": [
        "# Softmax Regression on the digits dataset "
      ]
    },
    {
      "cell_type": "code",
      "metadata": {
        "id": "QHWzElF8mq-v",
        "colab": {
          "base_uri": "https://localhost:8080/",
          "height": 238
        },
        "outputId": "c47a4a33-5264-4ddd-b5c5-e2c46d57f2b0"
      },
      "source": [
        "optimizer = GradientDescent(learning_rate=0.2, max_iters=1000,beta=0.9,record_history=True)\n",
        "num_folds = 5\n",
        "n_rest = digits_instances - n_digits_test\n",
        "err_valid = np.zeros(5)\n",
        "cost_iter=np.zeros((1000,num_folds))\n",
        "lambdaa=0.001\n",
        "start = timer()\n",
        "acc_d= []\n",
        "\n",
        "for f, (tr, val) in enumerate(cross_validate(n_rest, num_folds)):\n",
        "    model = SoftmaxRegression()\n",
        "    model, cost_iter[:,f] = model.fit(x_digits_train[tr], y_digits_train[tr],optimizer,b=len(x_digits_train[tr])//3,num_classes=digits_classes,lambdaa=lambdaa)\n",
        "\n",
        "    yh =  model.predict(x_digits_train[val])\n",
        "    acc_d.append(np.mean((y_digits_train[val].argmax(axis=1)==one_hot_y(yh).argmax(axis=1))))\n",
        "    err_valid[f] = cost_fin(y_digits_train[val], yh ,model.w,lambdaa=lambdaa)\n",
        "end = timer()\n",
        "#TEST\n",
        "start_test=timer()\n",
        "model = SoftmaxRegression()\n",
        "model,cost_test = model.fit(x_digits_train, y_digits_train,optimizer,b=len(x_digits_train)//3,num_classes=digits_classes,lambdaa=lambdaa)    \n",
        "yh_test = model.predict(x_digits_test)\n",
        "val_err_test=cost_fin(y_digits_test, yh_test ,model.w,lambdaa=lambdaa)\n",
        "acc_test=np.mean((y_digits_test.argmax(axis=1)==one_hot_y(yh_test).argmax(axis=1)))\n",
        "end_test=timer()\n",
        "#end TEST\n",
        "print(acc_d)\n",
        "aver_err_d = (np.sum(acc_d))/num_folds\n",
        "print(\"Average Validation Error: \", aver_err_d)\n",
        "print('Test accuracy:',acc_test)\n",
        "\n",
        "\n",
        "#Plot the accuracy and cost \n",
        "mean = np.mean(cost_iter,axis=1)\n",
        "plt.errorbar(range(1000),mean,np.std(cost_iter,axis=1),label='Validation cost')\n",
        "plt.plot(range(1000),cost_test,label='Test cost')\n",
        "plt.title('Cost per iteration of softmax regression on the digits dataset',fontsize=13)\n",
        "plt.legend(prop={'size': 15})\n",
        "plt.xlabel('iteration',fontsize=20)\n",
        "plt.ylabel('cost',fontsize=20)\n",
        "plt.savefig('cost_per_iter_digits_alpha_0.2.png',dpi=300)\n",
        "plt.show()\n",
        "\n",
        "plt.plot(range(1,6), err_valid, label='validation cost')\n",
        "plt.plot(range(1,6), [val_err_test]*5, label='Test cost')\n",
        "plt.title('Cost per run of softmax regression on the digits dataset',fontsize=13)\n",
        "plt.legend(prop={'size': 15})\n",
        "plt.xlabel('runs',fontsize=20)\n",
        "plt.ylabel('cost',fontsize=20)\n",
        "plt.savefig('cost_per_run_digits_alpha_0.2.png',dpi=300)\n",
        "plt.show()\n",
        "\n",
        "plt.errorbar(range(1,6),acc_d,label='Validation accuracy')\n",
        "plt.plot(range(1,6), [acc_test]*5, label='Test accuracy')\n",
        "plt.title('Accuracy of softmax regression on the digits dataset',fontsize=13)\n",
        "plt.legend(prop={'size': 15})\n",
        "plt.xlabel('runs',fontsize=20)\n",
        "plt.ylabel('Accuracy',fontsize=20)\n",
        "plt.savefig('accuracy_digits_alpha_0.2.png',dpi=300)\n",
        "plt.show()\n",
        "\n",
        "print('Run time of cross-validation in (s):',end-start)\n",
        "print('Run time of test in (s):',end_test-start_test)"
      ],
      "execution_count": null,
      "outputs": [
        {
          "output_type": "error",
          "ename": "NameError",
          "evalue": "ignored",
          "traceback": [
            "\u001b[0;31m---------------------------------------------------------------------------\u001b[0m",
            "\u001b[0;31mNameError\u001b[0m                                 Traceback (most recent call last)",
            "\u001b[0;32m<ipython-input-1-ab244dc072a6>\u001b[0m in \u001b[0;36m<module>\u001b[0;34m()\u001b[0m\n\u001b[0;32m----> 1\u001b[0;31m \u001b[0moptimizer\u001b[0m \u001b[0;34m=\u001b[0m \u001b[0mGradientDescent\u001b[0m\u001b[0;34m(\u001b[0m\u001b[0mlearning_rate\u001b[0m\u001b[0;34m=\u001b[0m\u001b[0;36m0.2\u001b[0m\u001b[0;34m,\u001b[0m \u001b[0mmax_iters\u001b[0m\u001b[0;34m=\u001b[0m\u001b[0;36m1000\u001b[0m\u001b[0;34m,\u001b[0m\u001b[0mbeta\u001b[0m\u001b[0;34m=\u001b[0m\u001b[0;36m0.9\u001b[0m\u001b[0;34m,\u001b[0m\u001b[0mrecord_history\u001b[0m\u001b[0;34m=\u001b[0m\u001b[0;32mTrue\u001b[0m\u001b[0;34m)\u001b[0m\u001b[0;34m\u001b[0m\u001b[0;34m\u001b[0m\u001b[0m\n\u001b[0m\u001b[1;32m      2\u001b[0m \u001b[0mnum_folds\u001b[0m \u001b[0;34m=\u001b[0m \u001b[0;36m5\u001b[0m\u001b[0;34m\u001b[0m\u001b[0;34m\u001b[0m\u001b[0m\n\u001b[1;32m      3\u001b[0m \u001b[0mn_rest\u001b[0m \u001b[0;34m=\u001b[0m \u001b[0mdigits_instances\u001b[0m \u001b[0;34m-\u001b[0m \u001b[0mn_digits_test\u001b[0m\u001b[0;34m\u001b[0m\u001b[0;34m\u001b[0m\u001b[0m\n\u001b[1;32m      4\u001b[0m \u001b[0merr_valid\u001b[0m \u001b[0;34m=\u001b[0m \u001b[0mnp\u001b[0m\u001b[0;34m.\u001b[0m\u001b[0mzeros\u001b[0m\u001b[0;34m(\u001b[0m\u001b[0;36m5\u001b[0m\u001b[0;34m)\u001b[0m\u001b[0;34m\u001b[0m\u001b[0;34m\u001b[0m\u001b[0m\n\u001b[1;32m      5\u001b[0m \u001b[0mcost_iter\u001b[0m\u001b[0;34m=\u001b[0m\u001b[0mnp\u001b[0m\u001b[0;34m.\u001b[0m\u001b[0mzeros\u001b[0m\u001b[0;34m(\u001b[0m\u001b[0;34m(\u001b[0m\u001b[0;36m1000\u001b[0m\u001b[0;34m,\u001b[0m\u001b[0mnum_folds\u001b[0m\u001b[0;34m)\u001b[0m\u001b[0;34m)\u001b[0m\u001b[0;34m\u001b[0m\u001b[0;34m\u001b[0m\u001b[0m\n",
            "\u001b[0;31mNameError\u001b[0m: name 'GradientDescent' is not defined"
          ]
        }
      ]
    },
    {
      "cell_type": "markdown",
      "metadata": {
        "id": "kTRa545D76K1"
      },
      "source": [
        "# Softmax regression on the letter dataset"
      ]
    },
    {
      "cell_type": "code",
      "metadata": {
        "id": "bq-KRQEVmq-z"
      },
      "source": [
        "def num_to_class(y,char_to_class):\n",
        "    y=y.argmax(axis=1)\n",
        "    y_chars=[]\n",
        "    for val in y:\n",
        "        for char, value in char_to_class.items():  \n",
        "            if value == val:\n",
        "                y_chars.append(char)\n",
        "    return y_chars"
      ],
      "execution_count": null,
      "outputs": []
    },
    {
      "cell_type": "code",
      "metadata": {
        "id": "OoQniBeEmq-3",
        "colab": {
          "base_uri": "https://localhost:8080/",
          "height": 1000
        },
        "outputId": "3c789b4b-2a59-4401-f814-b969f5531de4"
      },
      "source": [
        "optimizer = GradientDescent(learning_rate=1, max_iters=2000,beta=0.999,record_history=True)\n",
        "num_folds=5\n",
        "n_rest_letter= letter_instances- n_letter_test\n",
        "cost_iter=np.zeros((2000,num_folds))\n",
        "lambdaa=0.001\n",
        "num_folds = 5\n",
        "n_rest = digits_instances - n_digits_test\n",
        "err_valid = np.zeros(5)\n",
        "\n",
        "start=timer()\n",
        "acc_l = []\n",
        "for f, (tr, val) in enumerate(cross_validate(n_rest_letter, num_folds)):\n",
        "    model = SoftmaxRegression()\n",
        "    model, cost_iter[:,f] = model.fit(x_letter_train[tr], y_letter_train[tr],optimizer,b=len(x_letter_train[tr])//3,num_classes=letter_classes,lambdaa=lambdaa)\n",
        "    \n",
        "    yhl = model.predict(x_letter_train[val])\n",
        "    acc_l.append(np.sum((y_letter_train[val].argmax(axis=1)==one_hot_y(yhl).argmax(axis=1)))/len(yhl))\n",
        "    err_valid[f] = cost_fin(y_letter_train[val],yhl ,model.w,lambdaa)\n",
        " \n",
        "print(acc_l)\n",
        "aver_err_l = (np.sum(acc_l))/num_folds\n",
        "print(\"Average Validation Error: \", aver_err_l)\n",
        "\n",
        "end=timer()\n",
        "\n",
        "#TEST\n",
        "start_test=timer()\n",
        "model = SoftmaxRegression()\n",
        "model,cost_test = model.fit(x_letter_train, y_letter_train,optimizer,b=len(x_letter_train)//3,num_classes=letter_classes,lambdaa=lambdaa)    \n",
        "yh_test = model.predict(x_letter_test)\n",
        "val_err_test=cost_fin(y_letter_test, yh_test ,model.w,lambdaa=lambdaa)\n",
        "acc_test=np.mean((y_letter_test.argmax(axis=1)==one_hot_y(yh_test).argmax(axis=1)))\n",
        "end_test=timer()\n",
        "#end TEST\n",
        "\n",
        "print('Test accuracy:',acc_test)\n",
        "mean = np.mean(cost_iter,axis=1)\n",
        "#plot the accuracy and cost\n",
        "plt.errorbar(range(2000),mean,np.std(cost_iter,axis=1),label='Validation cost')\n",
        "plt.plot(range(2000),cost_test,label='Test cost')\n",
        "plt.title('Cost per iteration of softmax regression on the letter dataset',fontsize=13)\n",
        "plt.legend(prop={'size': 15})\n",
        "plt.xlabel('iteration',fontsize=20)\n",
        "plt.ylabel('cost',fontsize=20)\n",
        "plt.savefig('cost_per_iter_letter.png',dpi=300)\n",
        "plt.show()\n",
        "\n",
        "plt.plot(range(1,6), err_valid, label='validation cost')\n",
        "plt.plot(range(1,6), [val_err_test]*5, label='Test cost')\n",
        "plt.legend(prop={'size': 15})\n",
        "plt.title('Cost per run of softmax regression on the letter dataset',fontsize=13)\n",
        "plt.xlabel('runs',fontsize=20)\n",
        "plt.ylabel('cost',fontsize=20)\n",
        "plt.savefig('cost_per_run_letter.png',dpi=300)\n",
        "plt.show()\n",
        "\n",
        "plt.errorbar(range(1,6),acc_l,label='Validation accuracy')\n",
        "plt.plot(range(1,6), [acc_test]*5, label='Test accuracy')\n",
        "plt.title('Accuracy of softmax regression on the letter dataset',fontsize=13)\n",
        "plt.legend(prop={'size': 15})\n",
        "plt.xlabel('runs',fontsize=20)\n",
        "plt.ylabel('Accuracy',fontsize=20)\n",
        "plt.savefig('accuracy_letter.png',dpi=300)\n",
        "plt.show()\n",
        "\n",
        "print('Run time in (s):',end-start)\n",
        "print('Run time of test in (s):',end_test-start_test)"
      ],
      "execution_count": null,
      "outputs": [
        {
          "output_type": "stream",
          "text": [
            "[0.6846875, 0.7059375, 0.7065625, 0.7278125, 0.7134375]\n",
            "Average Validation Error:  0.7076875\n",
            "Test accuracy: 0.71175\n"
          ],
          "name": "stdout"
        },
        {
          "output_type": "stream",
          "text": [
            "/usr/local/lib/python3.6/dist-packages/numpy/core/_methods.py:193: RuntimeWarning: invalid value encountered in subtract\n",
            "  x = asanyarray(arr - arrmean)\n"
          ],
          "name": "stderr"
        },
        {
          "output_type": "display_data",
          "data": {
            "image/png": "[encoded data removed]",
            "text/plain": [
              "<Figure size 432x288 with 1 Axes>"
            ]
          },
          "metadata": {
            "tags": [],
            "needs_background": "light"
          }
        },
        {
          "output_type": "display_data",
          "data": {
            "image/png": "[encoded data removed]",
            "text/plain": [
              "<Figure size 432x288 with 1 Axes>"
            ]
          },
          "metadata": {
            "tags": [],
            "needs_background": "light"
          }
        },
        {
          "output_type": "display_data",
          "data": {
            "image/png": "[encoded data removed]",
            "text/plain": [
              "<Figure size 432x288 with 1 Axes>"
            ]
          },
          "metadata": {
            "tags": [],
            "needs_background": "light"
          }
        },
        {
          "output_type": "stream",
          "text": [
            "Run time in (s): 494.63689187599994\n",
            "Run time of test in (s): 122.01213904100018\n"
          ],
          "name": "stdout"
        }
      ]
    },
    {
      "cell_type": "markdown",
      "metadata": {
        "id": "noii9qYPmq_J"
      },
      "source": [
        "# Other models (KNN)"
      ]
    },
    {
      "cell_type": "code",
      "metadata": {
        "id": "_qizHNFDmq_J",
        "colab": {
          "base_uri": "https://localhost:8080/",
          "height": 397
        },
        "outputId": "c4b13deb-a3b0-4ee5-a2d7-cccac2c8b0c9"
      },
      "source": [
        "from sklearn.neighbors import KNeighborsRegressor\n",
        "from sklearn.metrics import log_loss\n",
        "from sklearn.metrics import accuracy_score\n",
        "num_folds = 5\n",
        "n_rest = digits_instances - n_digits_test\n",
        "K=100\n",
        "valid_error=np.zeros((K-1,num_folds))\n",
        "start=timer()\n",
        "acc_knn1=[]\n",
        "avg_acc1=[]\n",
        "for k in range(1,K):\n",
        "    acc_knn1=[]\n",
        "    for f, (tr, val) in enumerate(cross_validate(n_rest, num_folds)):\n",
        "        model = KNeighborsRegressor(n_neighbors=k)\n",
        "        model = model.fit(x_digits_train[tr], y_digits_train[tr])\n",
        "\n",
        "        yh_knn1 = model.predict(x_digits_train[val])\n",
        "        acc_knn1.append(accuracy_score(y_digits_train[val],one_hot_y(yh_knn1)))  #(np.mean((y_digits_train[val]== one_hot_y(yh_knn1))))\n",
        "        valid_error[k-1,f] = accuracy_score(y_digits_train[val],one_hot_y(yh_knn1)) #log_loss(y_digits_train[val], yh_knn1)\n",
        "    #print(acc_knn1)\n",
        "    aver_err_knn1 = (np.sum(acc_knn1))/num_folds\n",
        "    avg_acc1.append(aver_err_knn1)\n",
        "\n",
        "print(\"The value of k with the largest average accuracy is {}.\".format((np.argmax(avg_acc1)+1)))      \n",
        "print(\"The best accuracy is {}.\".format(np.amax(avg_acc1)))                              \n",
        "end=timer()                                    \n",
        "means = np.mean(valid_error, axis=1)\n",
        "plt.errorbar(range(1, K), means, np.std(valid_error, axis=1),label='Validation accuracy')\n",
        "plt.title('Accuracy score for the digits dataset', pad = 20.0)\n",
        "plt.xlabel('K (number of neighbours)')\n",
        "plt.ylabel('Accuracy')\n",
        "plt.savefig('knn_accuracy_digits.png',dpi=300)\n",
        "plt.show()\n",
        "\n",
        "print('In time:',end-start)\n",
        "\n",
        "#Run test with the best K\n",
        "start_test=timer()\n",
        "model= KNeighborsRegressor(n_neighbors=1)\n",
        "model=model.fit(x_digits_train, y_digits_train)\n",
        "yh_knn1_test = model.predict(x_digits_test)\n",
        "end_test=timer()\n",
        "print('Test accuracy: ',accuracy_score(y_digits_test,one_hot_y(yh_knn1_test)))\n",
        "print('Test run time in (s):',end_test-start_test)"
      ],
      "execution_count": null,
      "outputs": [
        {
          "output_type": "stream",
          "text": [
            "The value of k with the largest average accuracy is 1.\n",
            "The best accuracy is 0.9749128919860628.\n"
          ],
          "name": "stdout"
        },
        {
          "output_type": "display_data",
          "data": {
            "image/png": "[encoded data removed]",
            "text/plain": [
              "<Figure size 432x288 with 1 Axes>"
            ]
          },
          "metadata": {
            "tags": []
          }
        },
        {
          "output_type": "stream",
          "text": [
            "In time: 28.180979773000217\n",
            "Test accuracy:  0.9526462395543176\n",
            "Test run time in (s): 0.06638586600001872\n"
          ],
          "name": "stdout"
        }
      ]
    },
    {
      "cell_type": "code",
      "metadata": {
        "id": "CaLn387wmq_M",
        "colab": {
          "base_uri": "https://localhost:8080/",
          "height": 397
        },
        "outputId": "b2a73a57-47bb-41d3-8904-3260768d5af6"
      },
      "source": [
        "num_folds = 5\n",
        "n_rest = letter_instances - n_letter_test\n",
        "K=50 #only 50 because it takes more time and the accuracy is only decreasing\n",
        "valid_error=np.zeros((K-1,num_folds))\n",
        "start=timer()\n",
        "acc_knn2=[]\n",
        "avg_acc2=[]\n",
        "for k in range(1,K):\n",
        "    acc_knn2=[]\n",
        "    for f, (tr, val) in enumerate(cross_validate(n_rest, num_folds)):\n",
        "        model = KNeighborsRegressor(n_neighbors=k)\n",
        "        model = model.fit(x_letter_train[tr], y_letter_train[tr])\n",
        "\n",
        "        yh_knn2 = model.predict(x_letter_train[val])\n",
        "        acc_knn2.append(accuracy_score(y_letter_train[val],one_hot_y(yh_knn2)))\n",
        "        valid_error[k-1,f] = accuracy_score(y_letter_train[val],one_hot_y(yh_knn2))# log_loss(y_letter_train[val], yh_knn2)\n",
        "    aver_err_knn2 = (np.sum(acc_knn2))/num_folds\n",
        "    avg_acc2.append(aver_err_knn2)\n",
        "\n",
        "print(\"The value of k with the largest average accuracy is {}.\".format((np.argmax(avg_acc2)+1)))      \n",
        "print(\"The best accuracy is {}.\".format(np.amax(avg_acc2)))\n",
        "end=timer()                                    \n",
        "means = np.mean(valid_error, axis=1)\n",
        "plt.errorbar(range(1, K), means, np.std(valid_error, axis=1))\n",
        "plt.title('Accuracy score for the letter dataset', pad = 20.0)\n",
        "plt.xlabel('K (number of neighbours)')\n",
        "plt.ylabel('Accuracy')\n",
        "plt.savefig('knn_accuracy_letter.png',dpi=300)\n",
        "plt.show()\n",
        "\n",
        "print('In time:',end-start)\n",
        "\n",
        "#Run test with the best K\n",
        "start_test=timer()\n",
        "model= KNeighborsRegressor(n_neighbors=1)\n",
        "model=model.fit(x_letter_train, y_letter_train)\n",
        "yh_knn2_test = model.predict(x_letter_test)\n",
        "end_test=timer()\n",
        "print('Test accuracy: ',accuracy_score(y_letter_test,one_hot_y(yh_knn2_test)))\n",
        "print('Test run time in (s):',end_test-start_test)"
      ],
      "execution_count": null,
      "outputs": [
        {
          "output_type": "stream",
          "text": [
            "The value of k with the largest average accuracy is 1.\n",
            "The best accuracy is 0.93725.\n"
          ],
          "name": "stdout"
        },
        {
          "output_type": "display_data",
          "data": {
            "image/png": "[encoded data removed]",
            "text/plain": [
              "<Figure size 432x288 with 1 Axes>"
            ]
          },
          "metadata": {
            "tags": []
          }
        },
        {
          "output_type": "stream",
          "text": [
            "In time: 176.88815458699992\n",
            "Test accuracy:  0.94525\n",
            "Test run time in (s): 0.35504173899971647\n"
          ],
          "name": "stdout"
        }
      ]
    },
    {
      "cell_type": "code",
      "metadata": {
        "id": "lLD6JBUJKRCO"
      },
      "source": [
        ""
      ],
      "execution_count": null,
      "outputs": []
    }
  ]
}