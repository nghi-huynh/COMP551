{
  "nbformat": 4,
  "nbformat_minor": 0,
  "metadata": {
    "kernelspec": {
      "display_name": "Python 3",
      "language": "python",
      "name": "python3"
    },
    "language_info": {
      "codemirror_mode": {
        "name": "ipython",
        "version": 3
      },
      "file_extension": ".py",
      "mimetype": "text/x-python",
      "name": "python",
      "nbconvert_exporter": "python",
      "pygments_lexer": "ipython3",
      "version": "3.7.9"
    },
    "colab": {
      "name": "project2exploredata.ipynb",
      "provenance": [],
      "collapsed_sections": []
    }
  },
  "cells": [
    {
      "cell_type": "markdown",
      "metadata": {
        "id": "LMdwCg7D5xIQ"
      },
      "source": [
        "# Data Exploring"
      ]
    },
    {
      "cell_type": "code",
      "metadata": {
        "id": "Yj_1QMCY5xIT"
      },
      "source": [
        "import numpy as np\n",
        "import matplotlib.pyplot as plt\n",
        "import warnings"
      ],
      "execution_count": null,
      "outputs": []
    },
    {
      "cell_type": "code",
      "metadata": {
        "id": "dhSptgPl5xIX"
      },
      "source": [
        "#loading datasets\n",
        "from sklearn.datasets import load_digits\n",
        "digits = load_digits()\n",
        "from sklearn.datasets import fetch_openml\n",
        "letters = fetch_openml(name='letter', version=1)"
      ],
      "execution_count": null,
      "outputs": []
    },
    {
      "cell_type": "code",
      "metadata": {
        "id": "FLgzOzq45xIb"
      },
      "source": [
        "digits_target = digits.target\n",
        "digits_x = digits.data\n",
        "\n",
        "letters_target = letters.target\n",
        "letters_x = letters.data"
      ],
      "execution_count": null,
      "outputs": []
    },
    {
      "cell_type": "code",
      "metadata": {
        "id": "RPQoUJMG5xIe",
        "colab": {
          "base_uri": "https://localhost:8080/"
        },
        "outputId": "52dffd1a-83f6-4891-e65e-ed7cf4eec2bc"
      },
      "source": [
        "#Even though it is obvious, first let's find out how many different classes there are. \n",
        "digits_classes = np.unique(digits_target)\n",
        "letters_classes = np.unique(letters_target)\n",
        "print(\"The different classes for the digits dataset are \", digits_classes)\n",
        "print('There are {} different classes in the digits dataset.'.format(len(digits_classes)))\n",
        "print(\"The different classes for the letters dataset are \", letters_classes)\n",
        "print('There are {} different classes in the letters dataset.'.format(len(letters_classes)))"
      ],
      "execution_count": null,
      "outputs": [
        {
          "output_type": "stream",
          "text": [
            "The different classes for the digits dataset are  [0 1 2 3 4 5 6 7 8 9]\n",
            "There are 10 different classes in the digits dataset.\n",
            "The different classes for the letters dataset are  ['A' 'B' 'C' 'D' 'E' 'F' 'G' 'H' 'I' 'J' 'K' 'L' 'M' 'N' 'O' 'P' 'Q' 'R'\n",
            " 'S' 'T' 'U' 'V' 'W' 'X' 'Y' 'Z']\n",
            "There are 26 different classes in the letters dataset.\n"
          ],
          "name": "stdout"
        }
      ]
    },
    {
      "cell_type": "code",
      "metadata": {
        "id": "T8jm_zcJ5xIl",
        "colab": {
          "base_uri": "https://localhost:8080/",
          "height": 316
        },
        "outputId": "bcaec468-b1bd-42a7-cecf-20c5861ea62a"
      },
      "source": [
        "#now lets see how evenly is the data distributed (ie. is there one class with mroe data)\n",
        "#because if that's the case we need to consider it\n",
        "digits_dis_arr = [0]*10\n",
        "for idx in digits_target:\n",
        "    digits_dis_arr[idx] = digits_dis_arr[idx] + 1\n",
        "print(digits_dis_arr)\n",
        "print(\"Standard deviation: \",np.std(digits_dis_arr))\n",
        "print(\"Mean: \",np.mean(digits_dis_arr))\n",
        "digit_dist_plt = plt.bar(digits_classes,digits_dis_arr,color = 'c')\n",
        "#great! they look roughly the same "
      ],
      "execution_count": null,
      "outputs": [
        {
          "output_type": "stream",
          "text": [
            "[178, 182, 177, 183, 181, 182, 181, 179, 174, 180]\n",
            "Standard deviation:  2.6095976701399777\n",
            "Mean:  179.7\n"
          ],
          "name": "stdout"
        },
        {
          "output_type": "display_data",
          "data": {
            "image/png": "[encoded data removed]",
            "text/plain": [
              "<Figure size 432x288 with 1 Axes>"
            ]
          },
          "metadata": {
            "tags": [],
            "needs_background": "light"
          }
        }
      ]
    },
    {
      "cell_type": "code",
      "metadata": {
        "id": "srHn8SfB5xIo",
        "colab": {
          "base_uri": "https://localhost:8080/",
          "height": 316
        },
        "outputId": "4a2a1a12-661d-476e-cc47-eafab1f54d3d"
      },
      "source": [
        "#let's do the same with the letters dataset\n",
        "letters_dist_arr = [0]*26\n",
        "\n",
        "for letter in letters_target:\n",
        "    i = np.where(letters_classes == letter)\n",
        "    k = i[0]\n",
        "    idx = k[0]\n",
        "    letters_dist_arr[idx] = letters_dist_arr[idx]+1\n",
        "    \n",
        "print(letters_dist_arr)\n",
        "print(\"standard deviation: \",np.std(letters_dist_arr))\n",
        "print(\"mean: \", np.mean(letters_dist_arr))\n",
        "letters_dist_plt = plt.bar(letters_classes,letters_dist_arr,color = 'c')"
      ],
      "execution_count": null,
      "outputs": [
        {
          "output_type": "stream",
          "text": [
            "[789, 766, 736, 805, 768, 775, 773, 734, 755, 747, 739, 761, 792, 783, 753, 803, 783, 758, 748, 796, 813, 764, 752, 787, 786, 734]\n",
            "standard deviation:  22.724618457163775\n",
            "mean:  769.2307692307693\n"
          ],
          "name": "stdout"
        },
        {
          "output_type": "display_data",
          "data": {
            "image/png": "[encoded data removed]",
            "text/plain": [
              "<Figure size 432x288 with 1 Axes>"
            ]
          },
          "metadata": {
            "tags": [],
            "needs_background": "light"
          }
        }
      ]
    },
    {
      "cell_type": "code",
      "metadata": {
        "id": "OoGv3wWt5xIr",
        "colab": {
          "base_uri": "https://localhost:8080/"
        },
        "outputId": "11a8dd72-7e11-47ef-9008-4a3e1e33bdc3"
      },
      "source": [
        "#great! So the data is roughly equally distributed between classes\n",
        "#last thing is to check if there is any missing data\n",
        "warnings.simplefilter(action='ignore', category=FutureWarning)\n",
        "if \"True\" in (np.isnan(digits_target)):\n",
        "    print(\"There is missing value in digits_target.\")\n",
        "elif \"True\" in (np.isnan(digits_x)):\n",
        "    print(\"There is missing value in digits_x.\")\n",
        "else:\n",
        "    print(\"There is no missing value in digits dataset.\")\n"
      ],
      "execution_count": null,
      "outputs": [
        {
          "output_type": "stream",
          "text": [
            "There is no missing value in digits dataset.\n"
          ],
          "name": "stdout"
        }
      ]
    },
    {
      "cell_type": "code",
      "metadata": {
        "id": "BRYilgep5xIu",
        "colab": {
          "base_uri": "https://localhost:8080/"
        },
        "outputId": "dd4b987f-964a-4a97-d53a-8ab3ec5fa199"
      },
      "source": [
        "target_list = np.ndarray.tolist(letters_target) #cuz numpy was throwing a fit\n",
        "if ('none' in target_list):\n",
        "    print(\"There is missing value in letters_target.\")\n",
        "elif \"True\" in (np.isnan(letters_x)):\n",
        "    print(\"There is missing value in letters_x.\")\n",
        "else:\n",
        "    print(\"There is no missing value in letters dataset.\")"
      ],
      "execution_count": null,
      "outputs": [
        {
          "output_type": "stream",
          "text": [
            "There is no missing value in letters dataset.\n"
          ],
          "name": "stdout"
        }
      ]
    },
    {
      "cell_type": "code",
      "metadata": {
        "id": "VSLk5B_q5xIx"
      },
      "source": [
        "#yay. Now we can start actually doing regression!"
      ],
      "execution_count": null,
      "outputs": []
    },
    {
      "cell_type": "code",
      "metadata": {
        "id": "_OqPPJaelU67"
      },
      "source": [
        ""
      ],
      "execution_count": null,
      "outputs": []
    }
  ]
}